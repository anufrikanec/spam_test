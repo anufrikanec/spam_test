{
 "cells": [
  {
   "cell_type": "code",
   "execution_count": 195,
   "metadata": {},
   "outputs": [],
   "source": [
    "# подумать про отдельный словарь встречающихся в тексте почт, сайтов и номеров телефонов, так же возможно есть смысл\n",
    "# их класифицировать, возможно стоит обратить внимание на наличие сайта/номер/почты и общее кол-во слов\n",
    "\n",
    "from collections import defaultdict\n",
    "import nltk\n",
    "from nltk.corpus import stopwords\n",
    "from nltk.stem import PorterStemmer\n",
    "import re\n",
    "\n",
    "\n",
    "class calc_spam():\n",
    "    def __init__(self):\n",
    "        self.spam_dict = defaultdict(int)\n",
    "        self.not_spam_dict = defaultdict(int)\n",
    "        self.spam_letters_counter = 0\n",
    "        self.not_spam_letters_counter = 0\n",
    "        #self.letters_counter = self.spam_letters_counter + self.not_spam_letters_counter\n",
    "        self.stopwords = set(stopwords.words(\"russian\"))\n",
    "        #self.P_spam = self.spam_letters_counter/self.letters_counter\n",
    "        #self.P_not_spam = self.not_spam_letters_counter/self.letters_counter\n",
    "        self.stemmer = PorterStemmer()\n",
    "        \n",
    "        \n",
    "    def add_world(self, text, target_dict):\n",
    "        pattern = r\"[^\\w]\"\n",
    "        text = re.sub(pattern, \" \", text)\n",
    "        text = text.split(\" \")\n",
    "        for world in text:\n",
    "            if str(world) not in self.stopwords and world != '':\n",
    "                world = world.lower()\n",
    "                world = self.stemmer.stem(world)\n",
    "                \n",
    "                target_dict[world] +=1\n",
    "\n",
    "    def calculate_word_frequencies(self,body, label):\n",
    "        if label == \"SPAM\":\n",
    "            self.spam_letters_counter+=1\n",
    "            self.add_world(body, self.spam_dict)\n",
    "        elif label == \"NOT_SPAM\":\n",
    "            self.not_spam_letters_counter+=1\n",
    "            self.add_world(body, self.not_spam_dict)\n",
    "            \n",
    "            \n",
    "    def train(self, body, label):\n",
    "        self.calculate_word_frequencies(body, label)\n",
    "        if label == \"SPAM\":\n",
    "            self.spam_letters_counter +=1\n",
    "        elif label == \"NOT_SPAM\":\n",
    "            self.not_spam_letters_counter +=1\n",
    "    \n",
    "    #вот тут не уверен что правильно понял задачу!\n",
    "    def calculate_P_Bi_A(self, word, label):\n",
    "        if label == \"SPAM\":\n",
    "            P_Bi_A = (self.spam_dict[word] + 1)/(self.spam_dict[word] + 1 + self.not_spam_dict[word] + 1)\n",
    "            \n",
    "        elif label == \"NOT_SPAM\":\n",
    "            P_Bi_A = (self.not_spam_dict[word] + 1)/(self.spam_dict[word] + 1 + self.not_spam_dict[word] + 1)\n",
    "        print(P_Bi_A)\n",
    "        return P_Bi_A\n",
    "    \n",
    "    def calculate_P_B_A(self, text, label):\n",
    "        P_B_A = 1\n",
    "        text = text.split(\" \")\n",
    "        for world in text:\n",
    "            if str(world) not in self.stopwords:\n",
    "                P_Bi_A = self.calculate_P_Bi_A(world, label)\n",
    "                P_B_A = P_B_A*P_Bi_A\n",
    "                #print(P_B_A)\n",
    "        return P_B_A\n",
    "    \n",
    "    def classify(self, email):\n",
    "        P_all_spam = self.spam_letters_counter/(self.spam_letters_counter+self.not_spam_letters_counter)\n",
    "        P_spam = self.calculate_P_B_A(email, \"SPAM\")*P_all_spam\n",
    "        P_not_spam = self.calculate_P_B_A(email, \"NOT_SPAM\")*(1-P_all_spam)\n",
    "        print(P_spam)\n",
    "        print(P_not_spam)\n",
    "        if P_spam > P_not_spam:\n",
    "            return \"SPAM\"\n",
    "        else:\n",
    "            return \"NOT_SPAM\"\n",
    "        "
   ]
  },
  {
   "cell_type": "code",
   "execution_count": 196,
   "metadata": {},
   "outputs": [],
   "source": [
    "test = calc_spam()"
   ]
  },
  {
   "cell_type": "code",
   "execution_count": 197,
   "metadata": {},
   "outputs": [
    {
     "data": {
      "text/plain": [
       "defaultdict(int, {})"
      ]
     },
     "execution_count": 197,
     "metadata": {},
     "output_type": "execute_result"
    }
   ],
   "source": [
    "test.spam_dict"
   ]
  },
  {
   "cell_type": "code",
   "execution_count": 198,
   "metadata": {},
   "outputs": [],
   "source": [
    "train_data = [  \n",
    "    ['Купите новое чистящее средство', \"SPAM\"],   \n",
    "    ['Купи мою новую книгу', \"SPAM\"],  \n",
    "    ['Подари себе новый телефон', \"SPAM\"],\n",
    "    ['Добро пожаловать и купите новый телевизор', \"SPAM\"],\n",
    "    ['Привет давно не виделись', \"NOT_SPAM\"], \n",
    "    ['Довезем до аэропорта из пригорода всего за 399 рублей', \"SPAM\"], \n",
    "    ['Добро пожаловать в Мой Круг', \"NOT_SPAM\"],  \n",
    "    ['Я все еще жду документы', \"NOT_SPAM\"],  \n",
    "    ['Приглашаем на конференцию Data Science', \"NOT_SPAM\"],\n",
    "    ['Потерял твой телефон напомни', \"NOT_SPAM\"],\n",
    "    ['Порадуй своего питомца новым костюмом', \"SPAM\"]\n",
    "]  "
   ]
  },
  {
   "cell_type": "code",
   "execution_count": 199,
   "metadata": {},
   "outputs": [],
   "source": [
    "for info in train_data:\n",
    "    test.train(info[0], info[1])"
   ]
  },
  {
   "cell_type": "code",
   "execution_count": 200,
   "metadata": {},
   "outputs": [],
   "source": [
    "test_letter = 'Перезвони по номеру +799999999 в течение 6 секунд и выиграй миллион рублей!'"
   ]
  },
  {
   "cell_type": "code",
   "execution_count": 201,
   "metadata": {},
   "outputs": [
    {
     "name": "stdout",
     "output_type": "stream",
     "text": [
      "0.5\n",
      "0.5\n",
      "0.5\n",
      "0.5\n",
      "0.5\n",
      "0.5\n",
      "0.5\n",
      "0.5\n",
      "0.5\n",
      "0.5\n",
      "0.5\n",
      "0.5\n",
      "0.5\n",
      "0.5\n",
      "0.5\n",
      "0.5\n",
      "0.5\n",
      "0.5\n",
      "0.001065340909090909\n",
      "0.000887784090909091\n"
     ]
    },
    {
     "data": {
      "text/plain": [
       "'SPAM'"
      ]
     },
     "execution_count": 201,
     "metadata": {},
     "output_type": "execute_result"
    }
   ],
   "source": [
    "test.classify(test_letter)"
   ]
  },
  {
   "cell_type": "code",
   "execution_count": 192,
   "metadata": {},
   "outputs": [
    {
     "data": {
      "text/plain": [
       "2"
      ]
     },
     "execution_count": 192,
     "metadata": {},
     "output_type": "execute_result"
    }
   ],
   "source": [
    "test.letters_counter"
   ]
  },
  {
   "cell_type": "code",
   "execution_count": null,
   "metadata": {},
   "outputs": [],
   "source": []
  }
 ],
 "metadata": {
  "kernelspec": {
   "display_name": "Python 3",
   "language": "python",
   "name": "python3"
  },
  "language_info": {
   "codemirror_mode": {
    "name": "ipython",
    "version": 3
   },
   "file_extension": ".py",
   "mimetype": "text/x-python",
   "name": "python",
   "nbconvert_exporter": "python",
   "pygments_lexer": "ipython3",
   "version": "3.7.6"
  }
 },
 "nbformat": 4,
 "nbformat_minor": 4
}
